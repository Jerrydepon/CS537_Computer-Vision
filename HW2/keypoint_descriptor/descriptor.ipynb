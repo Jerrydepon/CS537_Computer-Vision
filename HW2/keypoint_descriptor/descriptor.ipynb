{
 "cells": [
  {
   "cell_type": "markdown",
   "metadata": {},
   "source": [
    "## Use pretrained network to output keypoint's description"
   ]
  },
  {
   "cell_type": "code",
   "execution_count": 1,
   "metadata": {},
   "outputs": [],
   "source": [
    "from __future__ import division, print_function\n",
    "import glob\n",
    "import os\n",
    "import cv2\n",
    "import PIL\n",
    "import random\n",
    "import numpy as np\n",
    "# import pandas as pd\n",
    "import matplotlib.pyplot as plt\n",
    "import matplotlib.image as mpimg\n",
    "import torch\n",
    "import torch.nn.init\n",
    "import torch.nn as nn\n",
    "import torch.optim as optim\n",
    "import torch.backends.cudnn as cudnn\n",
    "import torch.nn.functional as F\n",
    "import torchvision.datasets as dset\n",
    "import torchvision.transforms as transforms\n",
    "from tqdm import tqdm\n",
    "from torch.autograd import Variable\n",
    "from copy import deepcopy, copy\n",
    "from config_profile import args\n",
    "from Utils import cv2_scale36, cv2_scale, np_reshape, np_reshape64\n",
    "from scipy.optimize import linear_sum_assignment\n",
    "import sys"
   ]
  },
  {
   "cell_type": "code",
   "execution_count": 2,
   "metadata": {},
   "outputs": [],
   "source": [
    "os.environ[\"CUDA_VISIBLE_DEVICES\"] = \"1\" \n",
    "from descriptor_CNN3 import DesNet\n",
    "model = DesNet()\n",
    "model.eval()\n",
    "if args.cuda:\n",
    "    model.cuda()\n",
    "weight_path = \"checkpoint.pth\"\n",
    "trained_weight = torch.load(weight_path)\n",
    "model.load_state_dict(trained_weight['state_dict'])\n"
   ]
  },
  {
   "cell_type": "code",
   "execution_count": 3,
   "metadata": {},
   "outputs": [
    {
     "name": "stdout",
     "output_type": "stream",
     "text": [
      "query patches:  torch.Size([35, 30, 1, 32, 32])\n",
      "dataset patches:  torch.Size([140, 30, 1, 32, 32])\n"
     ]
    }
   ],
   "source": [
    "# load patches\n",
    "# query\n",
    "patches_q_dir = \"../keypoint_detector/patches_query.pt\"\n",
    "patches_q = torch.load(patches_q_dir)\n",
    "print(\"query patches: \", patches_q.shape)\n",
    "patches_q =  patches_q.view(-1, 1, 32, 32).cuda()\n",
    "\n",
    "# dataset\n",
    "patches_d_dir = \"../keypoint_detector/patches_images.pt\"\n",
    "patches_d = torch.load(patches_d_dir)\n",
    "print(\"dataset patches: \", patches_d.shape)\n",
    "patches_d =  patches_d.view(-1, 1, 32, 32).cuda()"
   ]
  },
  {
   "cell_type": "code",
   "execution_count": 4,
   "metadata": {},
   "outputs": [],
   "source": [
    "# query\n",
    "description_q = model(patches_q)\n",
    "description_q = description_q.view(-1, 30, 128)\n",
    "\n",
    "# dataset\n",
    "description_d = model(patches_d)\n",
    "description_d = description_d.view(-1, 30, 128)"
   ]
  },
  {
   "cell_type": "code",
   "execution_count": 5,
   "metadata": {},
   "outputs": [
    {
     "name": "stdout",
     "output_type": "stream",
     "text": [
      "query description:  torch.Size([35, 30, 128])\n",
      "dataset description:  torch.Size([140, 30, 128])\n"
     ]
    }
   ],
   "source": [
    "print(\"query description: \", description_q.shape)\n",
    "print(\"dataset description: \", description_d.shape) "
   ]
  },
  {
   "cell_type": "code",
   "execution_count": 6,
   "metadata": {},
   "outputs": [],
   "source": [
    "torch.save(description_q, \"query_description.pt\")\n",
    "torch.save(description_d, \"data_description.pt\") "
   ]
  },
  {
   "cell_type": "code",
   "execution_count": 7,
   "metadata": {},
   "outputs": [
    {
     "name": "stdout",
     "output_type": "stream",
     "text": [
      "feature_descriptors:  torch.Size([175, 30, 128])\n"
     ]
    }
   ],
   "source": [
    "c = torch.cat((description_q, description_d), 0)\n",
    "torch.save(c, \"feature_descriptors.pt\")\n",
    "print(\"feature_descriptors: \", c.shape)"
   ]
  },
  {
   "cell_type": "code",
   "execution_count": null,
   "metadata": {},
   "outputs": [],
   "source": []
  }
 ],
 "metadata": {
  "kernelspec": {
   "display_name": "Python 3",
   "language": "python",
   "name": "python3"
  },
  "language_info": {
   "codemirror_mode": {
    "name": "ipython",
    "version": 3
   },
   "file_extension": ".py",
   "mimetype": "text/x-python",
   "name": "python",
   "nbconvert_exporter": "python",
   "pygments_lexer": "ipython3",
   "version": "3.6.8"
  }
 },
 "nbformat": 4,
 "nbformat_minor": 2
}
