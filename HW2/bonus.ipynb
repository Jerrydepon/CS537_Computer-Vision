{
 "cells": [
  {
   "cell_type": "code",
   "execution_count": 1,
   "metadata": {},
   "outputs": [],
   "source": [
    "from __future__ import division, print_function\n",
    "import glob\n",
    "import os\n",
    "import cv2\n",
    "import PIL\n",
    "import random\n",
    "import numpy as np\n",
    "# import pandas as pd\n",
    "import matplotlib.pyplot as plt\n",
    "import matplotlib.image as mpimg\n",
    "import torch\n",
    "import torch.nn.init\n",
    "import torch.nn as nn\n",
    "import torch.optim as optim\n",
    "import torch.backends.cudnn as cudnn\n",
    "import torch.nn.functional as F\n",
    "import torchvision.datasets as dset\n",
    "import torchvision.transforms as transforms\n",
    "from tqdm import tqdm\n",
    "from torch.autograd import Variable\n",
    "from copy import deepcopy, copy\n",
    "# from config_profile import args\n",
    "# from Utils import cv2_scale36, cv2_scale, np_reshape, np_reshape64\n",
    "from scipy.optimize import linear_sum_assignment\n",
    "import sys\n",
    "import matplotlib.pyplot as plt"
   ]
  },
  {
   "cell_type": "code",
   "execution_count": 4,
   "metadata": {},
   "outputs": [
    {
     "name": "stdout",
     "output_type": "stream",
     "text": [
      "torch.Size([35, 30, 128])\n",
      "torch.Size([140, 30, 128])\n",
      "p_keypoints:  torch.Size([35, 30, 2])\n",
      "q_keypoints:  torch.Size([140, 30, 2])\n",
      "torch.Size([35, 140, 3, 3])\n"
     ]
    }
   ],
   "source": [
    "os.environ[\"CUDA_VISIBLE_DEVICES\"] = \"1\" \n",
    "\n",
    "q = torch.load(\"./keypoint_descriptor/query_description.pt\")  # torch.Size([35, 30, 128])\n",
    "d = torch.load(\"./keypoint_descriptor/data_description.pt\")   # torch.Size([140, 30, 128])\n",
    "p_point = torch.load(\"keypoints_query.pt\")\n",
    "q_point = torch.load(\"keypoints_images.pt\")\n",
    "F = torch.load(\"./fundamental_matrix.pt\")\n",
    "\n",
    "print(q.shape)\n",
    "print(d.shape)\n",
    "print(\"p_keypoints: \", p_point.shape)\n",
    "print(\"q_keypoints: \", q_point.shape)\n",
    "print(F.shape)"
   ]
  },
  {
   "cell_type": "code",
   "execution_count": 9,
   "metadata": {},
   "outputs": [
    {
     "name": "stdout",
     "output_type": "stream",
     "text": [
      "1,1,30"
     ]
    },
    {
     "ename": "TypeError",
     "evalue": "'float' object is not subscriptable",
     "output_type": "error",
     "traceback": [
      "\u001b[0;31m---------------------------------------------------------------------------\u001b[0m",
      "\u001b[0;31mTypeError\u001b[0m                                 Traceback (most recent call last)",
      "\u001b[0;32m<ipython-input-9-28d2dacd74d8>\u001b[0m in \u001b[0;36m<module>\u001b[0;34m\u001b[0m\n\u001b[1;32m     28\u001b[0m         \u001b[0;32mfor\u001b[0m \u001b[0mi\u001b[0m \u001b[0;32min\u001b[0m \u001b[0mrange\u001b[0m\u001b[0;34m(\u001b[0m\u001b[0mlen\u001b[0m\u001b[0;34m(\u001b[0m\u001b[0mcol_ind\u001b[0m\u001b[0;34m)\u001b[0m\u001b[0;34m)\u001b[0m\u001b[0;34m:\u001b[0m\u001b[0;34m\u001b[0m\u001b[0;34m\u001b[0m\u001b[0m\n\u001b[1;32m     29\u001b[0m             \u001b[0mc\u001b[0m\u001b[0;34m.\u001b[0m\u001b[0mappend\u001b[0m\u001b[0;34m(\u001b[0m\u001b[0mpair_matrix\u001b[0m\u001b[0;34m[\u001b[0m\u001b[0mi\u001b[0m\u001b[0;34m]\u001b[0m\u001b[0;34m[\u001b[0m\u001b[0mcol_ind\u001b[0m\u001b[0;34m[\u001b[0m\u001b[0mi\u001b[0m\u001b[0;34m]\u001b[0m\u001b[0;34m]\u001b[0m\u001b[0;34m)\u001b[0m\u001b[0;34m\u001b[0m\u001b[0;34m\u001b[0m\u001b[0m\n\u001b[0;32m---> 30\u001b[0;31m             \u001b[0mc\u001b[0m\u001b[0;34m[\u001b[0m\u001b[0mi\u001b[0m\u001b[0;34m]\u001b[0m\u001b[0;34m[\u001b[0m\u001b[0;36m0\u001b[0m\u001b[0;34m]\u001b[0m\u001b[0;34m.\u001b[0m\u001b[0mappend\u001b[0m\u001b[0;34m(\u001b[0m\u001b[0;36m1\u001b[0m\u001b[0;34m)\u001b[0m\u001b[0;34m\u001b[0m\u001b[0;34m\u001b[0m\u001b[0m\n\u001b[0m\u001b[1;32m     31\u001b[0m             \u001b[0mc\u001b[0m\u001b[0;34m[\u001b[0m\u001b[0mi\u001b[0m\u001b[0;34m]\u001b[0m\u001b[0;34m[\u001b[0m\u001b[0;36m1\u001b[0m\u001b[0;34m]\u001b[0m\u001b[0;34m.\u001b[0m\u001b[0mappend\u001b[0m\u001b[0;34m(\u001b[0m\u001b[0;36m1\u001b[0m\u001b[0;34m)\u001b[0m\u001b[0;34m\u001b[0m\u001b[0;34m\u001b[0m\u001b[0m\n\u001b[1;32m     32\u001b[0m         \u001b[0;31m# print(\"\\nC:\\n\", c)\u001b[0m\u001b[0;34m\u001b[0m\u001b[0;34m\u001b[0m\u001b[0;34m\u001b[0m\u001b[0m\n",
      "\u001b[0;31mTypeError\u001b[0m: 'float' object is not subscriptable"
     ]
    }
   ],
   "source": [
    "data = np.zeros((30, 30))\n",
    "similarity_list_one = np.zeros((35, 140))\n",
    "cost_matrix = torch.tensor(data)\n",
    "pair_matrix = data.tolist()\n",
    "\n",
    "# for i in range(5):\n",
    "#     for j in range(140):\n",
    "for i in range(len(q)):                 # 35\n",
    "#     for j in range(len(d)):             # 140  \n",
    "    for j in range(1):\n",
    "        s_one = 0\n",
    "        s_many = 0\n",
    "        \n",
    "        for k in range(len(q[0])):      # 30\n",
    "            for l in range(len(d[0])):  # 30\n",
    "                pair_matrix[i][j] = (p_point[i][k].tolist(), q_point[j][l].tolist())\n",
    "                cost_matrix[k][l] = torch.dist(q[i][k], d[j][l], p=2)\n",
    "                \n",
    "            print(\"\\r{},{},{}\".format(i+1, j+1, k+1), end='')\n",
    "            sys.stdout.flush()\n",
    "        \n",
    "        # one2one\n",
    "        cost_matrix_np = cost_matrix.detach().numpy()\n",
    "        row_ind, col_ind = linear_sum_assignment(cost_matrix_np)\n",
    "        \n",
    "        # C: one-to-one matching pairs\n",
    "        c = []\n",
    "        for i in range(len(col_ind)):\n",
    "            c.append(pair_matrix[i][col_ind[i]])\n",
    "            c[i][0].append(1)\n",
    "            c[i][1].append(1)\n",
    "        # print(\"\\nC:\\n\", c)    \n",
    "        print(\"shape of C:\", np.shape(c))    #\n",
    "             \n",
    "        \n",
    "        for m in range(len(cost_matrix_np[0])):       # 30\n",
    "            s_one += np.exp(-cost_matrix_np[m][col_ind[m]])\n",
    "        similarity_list_one[i][j] = s_one\n",
    "        \n",
    "\n",
    "        \n",
    "\n"
   ]
  },
  {
   "cell_type": "code",
   "execution_count": null,
   "metadata": {},
   "outputs": [],
   "source": []
  }
 ],
 "metadata": {
  "kernelspec": {
   "display_name": "Python 3",
   "language": "python",
   "name": "python3"
  },
  "language_info": {
   "codemirror_mode": {
    "name": "ipython",
    "version": 3
   },
   "file_extension": ".py",
   "mimetype": "text/x-python",
   "name": "python",
   "nbconvert_exporter": "python",
   "pygments_lexer": "ipython3",
   "version": "3.6.8"
  }
 },
 "nbformat": 4,
 "nbformat_minor": 2
}
