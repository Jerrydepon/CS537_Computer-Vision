{
 "cells": [
  {
   "cell_type": "markdown",
   "metadata": {},
   "source": [
    "## Keypoint Detection Solution\n",
    "---"
   ]
  },
  {
   "cell_type": "code",
   "execution_count": 19,
   "metadata": {},
   "outputs": [],
   "source": [
    "# load packages\n",
    "import cv2\n",
    "import numpy as np\n",
    "import os\n",
    "import torch\n",
    "import matplotlib.pyplot as plt\n",
    "import matplotlib.image as mpimg\n",
    "%matplotlib inline"
   ]
  },
  {
   "cell_type": "code",
   "execution_count": 20,
   "metadata": {},
   "outputs": [],
   "source": [
    "# Initiate SURF detector\n",
    "surf = cv2.xfeatures2d.SURF_create(30)"
   ]
  },
  {
   "cell_type": "code",
   "execution_count": 21,
   "metadata": {},
   "outputs": [],
   "source": [
    "def getPatches(kps, img, size=32, num=500):\n",
    "    res = torch.zeros(num, 1, size, size)\n",
    "    if type(img) is np.ndarray:\n",
    "        img = torch.from_numpy(img)\n",
    "    h, w = img.shape      # note: for image, the x direction is the verticle, y-direction is the horizontal...\n",
    "    for i in range(num):\n",
    "        cx, cy = kps[i]\n",
    "        cx, cy = int(cx), int(cy)\n",
    "        dd = int(size/2)\n",
    "        xmin, xmax = max(0, cx - dd), min(w, cx + dd ) - 1\n",
    "        ymin, ymax = max(0, cy - dd), min(h, cy + dd ) - 1 \n",
    "        \n",
    "        xmin_res, xmax_res = dd - min(dd,cx), dd + min(dd, w - cx)-1\n",
    "        ymin_res, ymax_res = dd - min(dd,cy), dd + min(dd, h - cy)-1\n",
    "\n",
    "        res[i, 0, ymin_res: ymax_res, xmin_res: xmax_res] = img[ymin: ymax, xmin: xmax]\n",
    "    return res"
   ]
  },
  {
   "cell_type": "code",
   "execution_count": 22,
   "metadata": {},
   "outputs": [
    {
     "name": "stdout",
     "output_type": "stream",
     "text": [
      "['1.JPG', '2.JPG', '3.JPG', '4.JPG', '5.JPG', '6.JPG', '7.JPG', '8.JPG', '9.JPG', '10.JPG', '11.JPG', '12.JPG', '13.JPG', '14.JPG', '15.JPG', '16.JPG', '17.JPG', '18.JPG', '19.JPG', '20.JPG', '21.JPG', '22.JPG', '23.JPG', '24.JPG', '25.JPG', '26.JPG', '27.JPG', '28.JPG', '29.JPG', '30.JPG', '31.JPG', '32.JPG', '33.JPG', '34.JPG', '35.JPG', '36.JPG', '37.JPG', '38.JPG', '39.JPG', '40.JPG', '41.JPG', '42.JPG', '43.JPG', '44.JPG', '45.JPG', '46.JPG', '47.JPG', '48.JPG', '49.JPG', '50.JPG', '51.JPG', '52.JPG', '53.JPG', '54.JPG', '55.JPG', '56.JPG', '57.JPG', '58.JPG', '59.JPG', '60.JPG', '61.JPG', '62.JPG', '63.JPG', '64.JPG', '65.JPG', '66.JPG', '67.JPG', '68.JPG', '69.JPG', '70.JPG', '71.JPG', '72.JPG', '73.JPG', '74.JPG', '75.JPG', '76.JPG', '77.JPG', '78.JPG', '79.JPG', '80.JPG', '81.JPG', '82.JPG', '83.JPG', '84.JPG', '85.JPG', '86.JPG', '87.JPG', '88.JPG', '89.JPG', '90.JPG', '91.JPG', '92.JPG', '93.JPG', '94.JPG', '95.JPG', '96.JPG', '97.JPG', '98.JPG', '99.JPG', '100.JPG', '101.JPG', '102.JPG', '103.JPG', '104.JPG', '105.JPG', '106.JPG', '107.JPG', '108.JPG', '109.JPG', '110.JPG', '111.JPG', '112.JPG', '113.JPG', '114.JPG', '115.JPG', '116.JPG', '117.JPG', '118.JPG', '119.JPG', '120.JPG', '121.JPG', '122.JPG', '123.JPG', '124.JPG', '125.JPG', '126.JPG', '127.JPG', '128.JPG', '129.JPG', '130.JPG', '131.JPG', '132.JPG', '133.JPG', '134.JPG', '135.JPG', '136.JPG', '137.JPG', '138.JPG', '139.JPG', '140.JPG']\n"
     ]
    }
   ],
   "source": [
    "img_dir = \"../image_retrieval/images\"     # for images\n",
    "# img_dir = \"../image_retrieval/query\"      # for query\n",
    "kps_num = 30\n",
    "patch_size = 32\n",
    "img_num = 140      # for images\n",
    "# img_num = 35       # for query\n",
    "res = torch.zeros(img_num, kps_num, 2)\n",
    "patches = torch.zeros(img_num, kps_num, 1, patch_size, patch_size)\n",
    "if os.path.exists(img_dir):\n",
    "    if os.listdir(img_dir) is []:\n",
    "        print(\"No images!\")\n",
    "        exit(0)\n",
    "    num_img = len(os.listdir(img_dir))\n",
    "    idx = 0\n",
    "    \n",
    "    files = os.listdir(img_dir)\n",
    "    for file in files:\n",
    "        if not file.endswith(\"JPG\"):\n",
    "            files.remove(file)\n",
    "    sorted_files = sorted(files, key=lambda x: int(x.split('.')[0]))                # for images\n",
    "#     sorted_files = sorted(files, key=lambda x: int(x.split('.')[0].split('q')[1]))    # for query\n",
    "    print(sorted_files)\n",
    "    for img in sorted_files:\n",
    "        if not img.endswith(\"JPG\"):\n",
    "            continue\n",
    "        image_dir = os.path.join(img_dir, img)\n",
    "        image = cv2.imread(image_dir)\n",
    "        img= cv2.cvtColor(image,cv2.COLOR_BGR2GRAY)\n",
    "        \n",
    "        ## find the keypoints and descriptors with SURF\n",
    "        kps, des = surf.detectAndCompute(img, None)\n",
    "#         if len(kps) < 30:\n",
    "#             idx += 1\n",
    "#             continue\n",
    "        keypoints_img = [kps[a].pt for a in range(kps_num)] \n",
    "        res[idx] = torch.FloatTensor(keypoints_img)\n",
    "        \n",
    "        ## extract patches\n",
    "        patches[idx] = getPatches(keypoints_img, img, size=patch_size, num=kps_num)\n",
    "        idx += 1\n",
    "        \n",
    "        ## plot keypoints on each image\n",
    "#         img2 = cv2.drawKeypoints(img, kps, None, color=(255,0,0), flags=cv2.DRAW_MATCHES_FLAGS_DRAW_RICH_KEYPOINTS)\n",
    "#         plt.imshow(img2)\n",
    "#         plt.show()\n",
    "else:\n",
    "    print(\"image folder not exists!\")\n",
    "    exit(0)"
   ]
  },
  {
   "cell_type": "code",
   "execution_count": 23,
   "metadata": {},
   "outputs": [
    {
     "name": "stdout",
     "output_type": "stream",
     "text": [
      "torch.Size([140, 30, 2])\n",
      "torch.Size([140, 30, 1, 32, 32])\n"
     ]
    }
   ],
   "source": [
    "print(res.shape)\n",
    "print(patches.shape)"
   ]
  },
  {
   "cell_type": "code",
   "execution_count": 24,
   "metadata": {},
   "outputs": [],
   "source": [
    "## save tensors\n",
    "output_dir_kps = \"keypoints.pt\"\n",
    "output_dir_patches = \"patches.pt\"\n",
    "torch.save(res, output_dir_kps)\n",
    "torch.save(patches, output_dir_patches)"
   ]
  },
  {
   "cell_type": "code",
   "execution_count": null,
   "metadata": {},
   "outputs": [],
   "source": []
  }
 ],
 "metadata": {
  "kernelspec": {
   "display_name": "Python 3",
   "language": "python",
   "name": "python3"
  },
  "language_info": {
   "codemirror_mode": {
    "name": "ipython",
    "version": 3
   },
   "file_extension": ".py",
   "mimetype": "text/x-python",
   "name": "python",
   "nbconvert_exporter": "python",
   "pygments_lexer": "ipython3",
   "version": "3.6.8"
  }
 },
 "nbformat": 4,
 "nbformat_minor": 2
}
