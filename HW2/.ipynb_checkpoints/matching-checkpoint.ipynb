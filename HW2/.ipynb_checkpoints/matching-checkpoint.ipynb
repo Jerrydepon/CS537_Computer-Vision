{
 "cells": [
  {
   "cell_type": "code",
   "execution_count": 1,
   "metadata": {},
   "outputs": [],
   "source": [
    "from __future__ import division, print_function\n",
    "import glob\n",
    "import os\n",
    "import cv2\n",
    "import PIL\n",
    "import random\n",
    "import numpy as np\n",
    "# import pandas as pd\n",
    "import matplotlib.pyplot as plt\n",
    "import matplotlib.image as mpimg\n",
    "import torch\n",
    "import torch.nn.init\n",
    "import torch.nn as nn\n",
    "import torch.optim as optim\n",
    "import torch.backends.cudnn as cudnn\n",
    "import torch.nn.functional as F\n",
    "import torchvision.datasets as dset\n",
    "import torchvision.transforms as transforms\n",
    "from tqdm import tqdm\n",
    "from torch.autograd import Variable\n",
    "from copy import deepcopy, copy\n",
    "# from config_profile import args\n",
    "# from Utils import cv2_scale36, cv2_scale, np_reshape, np_reshape64\n",
    "from scipy.optimize import linear_sum_assignment\n",
    "import sys\n",
    "import matplotlib.pyplot as plt"
   ]
  },
  {
   "cell_type": "markdown",
   "metadata": {},
   "source": [
    "<span style=\"color:blue\">Read in features</span>"
   ]
  },
  {
   "cell_type": "code",
   "execution_count": 2,
   "metadata": {},
   "outputs": [
    {
     "name": "stdout",
     "output_type": "stream",
     "text": [
      "torch.Size([35, 30, 128])\n",
      "torch.Size([140, 30, 128])\n"
     ]
    }
   ],
   "source": [
    "os.environ[\"CUDA_VISIBLE_DEVICES\"] = \"1\" \n",
    "\n",
    "q = torch.load(\"./keypoint_descriptor/query_description.pt\")  # torch.Size([35, 30, 128])\n",
    "d = torch.load(\"./keypoint_descriptor/data_description.pt\")   # torch.Size([140, 30, 128])\n",
    "\n",
    "print(q.shape)\n",
    "print(d.shape)"
   ]
  },
  {
   "cell_type": "markdown",
   "metadata": {},
   "source": [
    "<span style=\"color:blue\">Similarity Matrix - one-to-one & many-to-many</span>"
   ]
  },
  {
   "cell_type": "code",
   "execution_count": 3,
   "metadata": {},
   "outputs": [
    {
     "name": "stdout",
     "output_type": "stream",
     "text": [
      "35,140,30"
     ]
    }
   ],
   "source": [
    "data = np.zeros((30, 30))\n",
    "similarity_list_one = np.zeros((35, 140))\n",
    "similarity_list_many = np.zeros((35, 140))\n",
    "cost_matrix = torch.tensor(data)\n",
    "\n",
    "# for i in range(5):\n",
    "#     for j in range(140):\n",
    "for i in range(len(q)):                 # 35\n",
    "    for j in range(len(d)):             # 140  \n",
    "        s_one = 0\n",
    "        s_many = 0\n",
    "        for k in range(len(q[0])):      # 30\n",
    "            for l in range(len(d[0])):  # 30\n",
    "                cost_matrix[k][l] = torch.dist(q[i][k], d[j][l], p=2)\n",
    "                \n",
    "            print(\"\\r{},{},{}\".format(i+1, j+1, k+1), end='')\n",
    "            sys.stdout.flush()\n",
    "        \n",
    "        # one2one\n",
    "        cost_matrix_np = cost_matrix.detach().numpy()\n",
    "        row_ind, col_ind = linear_sum_assignment(cost_matrix_np)\n",
    "        \n",
    "        for m in range(len(cost_matrix_np[0])):       # 30\n",
    "            s_one += np.exp(-cost_matrix_np[m][col_ind[m]])\n",
    "        similarity_list_one[i][j] = s_one\n",
    "        \n",
    "        # many2many\n",
    "        s = np.exp(-cost_matrix_np)\n",
    "        x = s / np.linalg.norm(s, ord=2, keepdims=True)\n",
    "        thres = np.mean(x) + 0.08 * np.std(x)\n",
    "        x[x >= thres] = 1\n",
    "        x[x < thres] = 0\n",
    "        s_many = np.sum(np.exp(-x * cost_matrix_np))\n",
    "        similarity_list_many[i][j] = s_many\n"
   ]
  },
  {
   "cell_type": "markdown",
   "metadata": {},
   "source": [
    "<span style=\"color:blue\">Similarity Matrix - many-to-many</span>"
   ]
  },
  {
   "cell_type": "code",
   "execution_count": 4,
   "metadata": {},
   "outputs": [
    {
     "name": "stdout",
     "output_type": "stream",
     "text": [
      "(35, 140)\n",
      "[16.17904447 16.30820617 15.78363047 11.11532302  9.55921467  9.37336278\n",
      "  9.20226531  9.3025701   9.35186794  9.45439613  9.62588284  9.52713747\n",
      "  9.67419768  9.43327756  9.67102193  9.62188808  9.7847566   9.58337962\n",
      "  9.75434122  9.67078957  9.70716952  9.55411415  9.44800346  9.79766919\n",
      "  9.55827025  9.626719    9.53188505  9.55305223  9.23372509  9.17799015\n",
      "  9.46172337  9.38166975  9.35836146  9.47581914  9.37760477  9.28985462\n",
      "  9.20770198  9.4928306   9.25902836  9.31922021  9.21636192  9.05282784\n",
      "  9.06830505  8.99650922  9.37242723  9.25267364  8.82934196  9.16120159\n",
      "  9.46229759  9.60751175  9.34738969  9.93151751  9.28922672  9.29416787\n",
      "  9.37401922  9.43337993  9.3240794   9.41650392  9.40413115  9.39725298\n",
      "  9.4120865   9.33243833  9.41682648  9.30671419  8.72469048  8.98651503\n",
      "  8.97860861  9.03774446  9.31092426  9.02225264  9.08383725  9.0775255\n",
      "  9.48604808  9.42194629  9.44658261  9.44887435  9.3946599   9.36827032\n",
      "  9.53843677  9.15060286  9.03344088  9.108531    9.35947491  9.18073816\n",
      "  9.10189806  9.18703226  9.18006115  9.28248219  9.27724792  9.22257687\n",
      "  9.2411022   9.62952189  9.64012715  9.25161158  9.63298852  9.60192046\n",
      "  8.25097823  9.03512549  8.61208896  8.83739194  9.10256929  8.87589487\n",
      "  9.03192324  9.16300505  9.08524227  8.88591121  9.18559012  8.93618297\n",
      "  9.55811218  9.20055191  9.62062807  9.46954144  9.52399716  9.4652592\n",
      "  9.59427173  9.38102265  9.43421573  9.38946421  9.32140158  9.67375511\n",
      "  9.95633812  9.80663081  9.63974366  9.77359745  9.461204    9.33243965\n",
      "  9.43113511  9.2209661   9.31769197  9.16609622  9.20244451  9.36058105\n",
      "  9.15523314  9.21402295  9.234245    9.3473462   9.59037375  9.31273321\n",
      "  9.51843563  9.59560765]\n",
      "(35, 140)\n",
      "[760.81899804 754.08182567 744.49902159 691.01613983 646.70452776\n",
      " 647.38526544 625.23604487 631.17675832 635.74588533 635.46662624\n",
      " 639.64443541 631.75402845 633.69999175 635.74270629 643.04264116\n",
      " 654.88338943 637.69023943 650.46470123 639.88285772 631.37743206\n",
      " 643.29217276 643.58761906 625.90795027 636.03090009 625.04016931\n",
      " 630.00368277 633.66030434 634.5114146  644.88960086 630.58074842\n",
      " 637.82643531 648.5958717  652.15230779 645.84869123 647.09462851\n",
      " 638.49653566 613.10260123 629.19754356 624.29476789 624.69055662\n",
      " 624.93133179 618.01502611 632.84195447 613.1892195  636.96431493\n",
      " 641.08206829 630.35718486 637.01025144 630.31476948 649.10342473\n",
      " 635.76404284 650.30991594 635.65869188 625.85155628 638.9231749\n",
      " 621.8911452  634.32918571 625.88469192 630.23118137 630.14445699\n",
      " 642.27514102 625.8988479  638.7212981  643.83974076 616.48873916\n",
      " 628.36606046 637.55029926 639.86296418 639.69824419 605.04853747\n",
      " 633.58987725 625.67830456 632.55617252 625.47989298 626.79547349\n",
      " 632.0131057  626.61315222 631.32986533 643.40842241 625.85744744\n",
      " 625.9559643  636.88360374 631.44620571 614.82279741 616.84791691\n",
      " 616.15985172 614.44160445 616.46023634 632.80382272 632.26197707\n",
      " 644.03106533 635.37498378 634.23572784 623.79035424 646.95459072\n",
      " 644.2485312  609.36557217 596.85421057 615.64425116 609.51146692\n",
      " 618.30292686 639.86070248 636.80709395 631.70786176 615.93515893\n",
      " 634.46163028 630.5913676  620.84060946 631.78306953 628.15168302\n",
      " 636.7366067  631.68171728 645.8377864  618.58353011 658.80600732\n",
      " 651.58973261 641.41037627 619.63211036 635.5099636  632.1403389\n",
      " 648.10385981 660.29721616 640.82974874 653.99192923 626.15477339\n",
      " 639.35123158 628.68846409 627.34782193 635.71363014 616.46459999\n",
      " 649.28891537 616.39375655 646.07609441 644.31081925 632.14010607\n",
      " 637.40950921 622.37072541 633.52064906 627.3663265  634.6332864 ]\n"
     ]
    }
   ],
   "source": [
    "print(similarity_list_one.shape)\n",
    "print(similarity_list_one[0])\n",
    "\n",
    "print(similarity_list_many.shape)\n",
    "print(similarity_list_many[0])"
   ]
  },
  {
   "cell_type": "markdown",
   "metadata": {},
   "source": [
    "<span style=\"color:blue\">Precision & Recall</span>"
   ]
  },
  {
   "cell_type": "code",
   "execution_count": 5,
   "metadata": {},
   "outputs": [
    {
     "name": "stdout",
     "output_type": "stream",
     "text": [
      "76.42857142857142\n",
      "58.57142857142858\n"
     ]
    }
   ],
   "source": [
    "correct_one = 0\n",
    "correct_many = 0\n",
    "\n",
    "# find the four most similar graphs for each query\n",
    "for i in range(len(similarity_list_one)):  # 35\n",
    "    k_most_idx = similarity_list_one[i].argsort()[-4:][::-1]\n",
    "    k_most_idx_many = similarity_list_many[i].argsort()[-4:][::-1]\n",
    "    for j in k_most_idx:\n",
    "        if 4*i <= j <= 4*i+3:\n",
    "            correct_one += 1\n",
    "    for j in k_most_idx_many:\n",
    "        if 4*i <= j <= 4*i+3:\n",
    "            correct_many += 1\n",
    "\n",
    "accuracy_one = correct_one / 140 * 100\n",
    "print(accuracy_one)\n",
    "accuracy_many = correct_many / 140 * 100\n",
    "print(accuracy_many)\n"
   ]
  },
  {
   "cell_type": "markdown",
   "metadata": {},
   "source": [
    "<span style=\"color:blue\">Average P, R</span>"
   ]
  },
  {
   "cell_type": "code",
   "execution_count": 13,
   "metadata": {},
   "outputs": [
    {
     "data": {
      "image/png": "[encoded data removed]",
      "text/plain": [
       "<Figure size 432x288 with 1 Axes>"
      ]
     },
     "metadata": {
      "needs_background": "light"
     },
     "output_type": "display_data"
    },
    {
     "data": {
      "image/png": "[encoded data removed]",
      "text/plain": [
       "<Figure size 432x288 with 1 Axes>"
      ]
     },
     "metadata": {
      "needs_background": "light"
     },
     "output_type": "display_data"
    }
   ],
   "source": [
    "# precision: tp/(tp+fp)\n",
    "# recall: tp/(tp+fn) \n",
    "\n",
    "p_one = [0, 0, 0, 0]\n",
    "r_one = [0, 0, 0, 0]\n",
    "p_many = [0, 0, 0, 0]\n",
    "r_many = [0, 0, 0, 0]\n",
    "\n",
    "for k in range(4):\n",
    "    correct_one = 0\n",
    "    correct_many = 0\n",
    "    for i in range(len(similarity_list_one)):  # 35\n",
    "        k_most_idx = similarity_list_one[i].argsort()[-(k+1):][::-1]\n",
    "        k_most_idx_many = similarity_list_many[i].argsort()[-(k+1):][::-1]\n",
    "        for j in k_most_idx:\n",
    "            if 4*i <= j <= 4*i+3:\n",
    "                correct_one += 1\n",
    "        for j in k_most_idx_many:\n",
    "            if 4*i <= j <= 4*i+3:\n",
    "                correct_many += 1\n",
    "                \n",
    "    p_one[k] = correct_one / ((k+1) * 35)\n",
    "    r_one[k] = correct_one / (4 * 35)\n",
    "    p_many[k] = correct_many / ((k+1) * 35)\n",
    "    r_many[k] = correct_many / (4 * 35)\n",
    "\n",
    "plt.title('one2one --- recall-precision curve')\n",
    "plt.xlabel('Recall')\n",
    "plt.ylabel('Precision')\n",
    "plt.plot(r_one, p_one)\n",
    "plt.grid(True)\n",
    "plt.show()\n",
    "\n",
    "plt.title('many2mnay --- recall-precision curve')\n",
    "plt.xlabel('Recall')\n",
    "plt.ylabel('Precision')\n",
    "plt.plot(p_many, r_many)\n",
    "plt.grid(True)\n",
    "plt.show()"
   ]
  },
  {
   "cell_type": "markdown",
   "metadata": {},
   "source": [
    "<span style=\"color:blue\">Save similarity matrix</span>"
   ]
  },
  {
   "cell_type": "code",
   "execution_count": 7,
   "metadata": {},
   "outputs": [
    {
     "name": "stdout",
     "output_type": "stream",
     "text": [
      "similarity matrix one:  torch.Size([35, 140])\n",
      "similarity matrix many:  torch.Size([35, 140])\n"
     ]
    }
   ],
   "source": [
    "similarity_list_one\n",
    "similarity_list_many\n",
    "matrix_one = torch.from_numpy(similarity_list_one)\n",
    "matrix_many = torch.from_numpy(similarity_list_many)\n",
    "\n",
    "torch.save(matrix_one, \"similarity_one.pt\")\n",
    "torch.save(matrix_many, \"similarity_many.pt\")\n",
    "print(\"similarity matrix one: \", matrix_one.shape)\n",
    "print(\"similarity matrix many: \", matrix_many.shape)"
   ]
  },
  {
   "cell_type": "code",
   "execution_count": null,
   "metadata": {},
   "outputs": [],
   "source": []
  }
 ],
 "metadata": {
  "kernelspec": {
   "display_name": "Python 3",
   "language": "python",
   "name": "python3"
  },
  "language_info": {
   "codemirror_mode": {
    "name": "ipython",
    "version": 3
   },
   "file_extension": ".py",
   "mimetype": "text/x-python",
   "name": "python",
   "nbconvert_exporter": "python",
   "pygments_lexer": "ipython3",
   "version": "3.6.6"
  }
 },
 "nbformat": 4,
 "nbformat_minor": 2
}
