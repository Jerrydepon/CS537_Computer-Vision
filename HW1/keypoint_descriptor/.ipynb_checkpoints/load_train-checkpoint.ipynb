{
 "cells": [
  {
   "cell_type": "code",
   "execution_count": 1,
   "metadata": {},
   "outputs": [
    {
     "ename": "RuntimeError",
     "evalue": "CUDA error: out of memory",
     "output_type": "error",
     "traceback": [
      "\u001b[0;31m---------------------------------------------------------------------------\u001b[0m",
      "\u001b[0;31mRuntimeError\u001b[0m                              Traceback (most recent call last)",
      "\u001b[0;32m<ipython-input-1-a0d5d27ee60f>\u001b[0m in \u001b[0;36m<module>\u001b[0;34m\u001b[0m\n\u001b[1;32m     19\u001b[0m \u001b[0;31m# Load patches data\u001b[0m\u001b[0;34m\u001b[0m\u001b[0;34m\u001b[0m\u001b[0m\n\u001b[1;32m     20\u001b[0m \u001b[0mpatches\u001b[0m \u001b[0;34m=\u001b[0m \u001b[0mtorch\u001b[0m\u001b[0;34m.\u001b[0m\u001b[0mload\u001b[0m\u001b[0;34m(\u001b[0m\u001b[0mpatches_dir\u001b[0m\u001b[0;34m)\u001b[0m\u001b[0;34m\u001b[0m\u001b[0m\n\u001b[0;32m---> 21\u001b[0;31m \u001b[0mpatches\u001b[0m \u001b[0;34m=\u001b[0m \u001b[0mpatches\u001b[0m\u001b[0;34m.\u001b[0m\u001b[0mview\u001b[0m\u001b[0;34m(\u001b[0m\u001b[0;34m-\u001b[0m\u001b[0;36m1\u001b[0m\u001b[0;34m,\u001b[0m \u001b[0;36m1\u001b[0m\u001b[0;34m,\u001b[0m \u001b[0;36m32\u001b[0m\u001b[0;34m,\u001b[0m \u001b[0;36m32\u001b[0m\u001b[0;34m)\u001b[0m\u001b[0;34m.\u001b[0m\u001b[0mcuda\u001b[0m\u001b[0;34m(\u001b[0m\u001b[0;34m)\u001b[0m\u001b[0;34m\u001b[0m\u001b[0m\n\u001b[0m\u001b[1;32m     22\u001b[0m \u001b[0mout1\u001b[0m\u001b[0;34m,\u001b[0m\u001b[0mout2\u001b[0m\u001b[0;34m,\u001b[0m\u001b[0mout3\u001b[0m \u001b[0;34m=\u001b[0m\u001b[0;32mNone\u001b[0m\u001b[0;34m,\u001b[0m\u001b[0;32mNone\u001b[0m\u001b[0;34m,\u001b[0m\u001b[0;32mNone\u001b[0m\u001b[0;34m\u001b[0m\u001b[0m\n\u001b[1;32m     23\u001b[0m \u001b[0;34m\u001b[0m\u001b[0m\n",
      "\u001b[0;31mRuntimeError\u001b[0m: CUDA error: out of memory"
     ]
    }
   ],
   "source": [
    "import torch\n",
    "from descriptor import DesNet\n",
    "from config_profile import args\n",
    "\n",
    "\n",
    "def defineModel(cnnType):\n",
    "    dic = {\"CNN1\": 1, \"CNN2\": 2, \"CNN3\": 3}\n",
    "    cnn_model = DesNet(dic[cnnType])\n",
    "    if args.cuda:\n",
    "        cnn_model.cuda()\n",
    "    return cnn_model\n",
    "\n",
    "\n",
    "batch, cnnList = \"1024\", [\"CNN1\",\"CNN2\",\"CNN3\"]\n",
    "patches_dir = \"./933271081_wangchih_keypoints.pt\"\n",
    "output_dir = \"933271081_wangchih_descriptions.pt\"\n",
    "outList = []\n",
    "\n",
    "# Load patches data\n",
    "patches = torch.load(patches_dir)\n",
    "patches = patches.view(-1, 1, 32, 32).cuda()\n",
    "out1,out2,out3 =None,None,None\n",
    "\n",
    "for cnn in cnnList:\n",
    "    # load network\n",
    "    model = defineModel(cnn)\n",
    "    weight_dir = \"./models/liberty_train_{0}_{1}/_liberty_min_as_fliprot/checkpoint_19.pth\".format(cnn, batch)\n",
    "    # Load weights\n",
    "    trained_weight = torch.load(weight_dir)\n",
    "    model.load_state_dict(trained_weight['state_dict'])\n",
    "    # Forward pass the patches to the model\n",
    "    output = model(patches)\n",
    "\n",
    "    # Resize, output result\n",
    "    print(output.shape)\n",
    "#     output.shape = torch.Size([1000, 128])\n",
    "    out = output.view(5, 200, 128).cpu().data\n",
    "    outList.append(out)\n",
    "\n",
    "# Repeat above process for CNN2, CNN3, and store them together:\n",
    "all_output = torch.stack((outList[0], outList[1], outList[2]))\n",
    "torch.save(all_output, output_dir)"
   ]
  },
  {
   "cell_type": "code",
   "execution_count": null,
   "metadata": {},
   "outputs": [],
   "source": []
  }
 ],
 "metadata": {
  "kernelspec": {
   "display_name": "Python 3",
   "language": "python",
   "name": "python3"
  },
  "language_info": {
   "codemirror_mode": {
    "name": "ipython",
    "version": 3
   },
   "file_extension": ".py",
   "mimetype": "text/x-python",
   "name": "python",
   "nbconvert_exporter": "python",
   "pygments_lexer": "ipython3",
   "version": "3.6.6"
  }
 },
 "nbformat": 4,
 "nbformat_minor": 2
}
