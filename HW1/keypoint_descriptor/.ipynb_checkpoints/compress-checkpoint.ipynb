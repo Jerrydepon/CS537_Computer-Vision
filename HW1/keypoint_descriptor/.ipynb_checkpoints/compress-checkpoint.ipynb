{
 "cells": [
  {
   "cell_type": "code",
   "execution_count": 1,
   "metadata": {},
   "outputs": [
    {
     "name": "stdout",
     "output_type": "stream",
     "text": [
      "original size  torch.Size([1000, 128])\n",
      "resize:  torch.Size([5, 200, 128])\n",
      "original size  torch.Size([1000, 128])\n",
      "resize:  torch.Size([5, 200, 128])\n",
      "original size  torch.Size([1000, 128])\n",
      "resize:  torch.Size([5, 200, 128])\n",
      "<class 'torch.Tensor'>\n",
      "all ouput:  torch.Size([3, 5, 200, 128])\n"
     ]
    }
   ],
   "source": [
    "import torch\n",
    "from descriptor import DesNet\n",
    "from config_profile import args\n",
    "import os\n",
    "\n",
    "os.environ[\"CUDA_VISIBLE_DEVICES\"] = \"1\" \n",
    "\n",
    "def defineModel(cnnType):\n",
    "    dic = {\"CNN1\": 1, \"CNN2\": 2, \"CNN3\": 3}\n",
    "    cnn_model = DesNet(dic[cnnType])\n",
    "    if args.cuda:\n",
    "        cnn_model.cuda()\n",
    "    return cnn_model\n",
    "\n",
    "\n",
    "batch, cnnList = \"512\", [\"CNN1\",\"CNN2\",\"CNN3\"]\n",
    "patches_dir = \"wangchih_patchs.pt\"\n",
    "output_dir = \"wangchih_descriptions.pt\"\n",
    "outList = []\n",
    "\n",
    "# Load patches data\n",
    "patches = torch.load(patches_dir)\n",
    "patches = patches.view(-1, 1, 32, 32).cuda()\n",
    "out1,out2,out3 =None,None,None\n",
    "\n",
    "for cnn in cnnList:\n",
    "    # load network\n",
    "    model = defineModel(cnn)\n",
    "    weight_dir = \"./models/liberty_train_{0}_{1}/_liberty_min_as_fliprot/checkpoint_19.pth\".format(cnn, batch)\n",
    "    # Load weights\n",
    "    trained_weight = torch.load(weight_dir)\n",
    "    model.load_state_dict(trained_weight['state_dict'])\n",
    "    # Forward pass the patches to the model\n",
    "    output = model(patches)\n",
    "\n",
    "    # Resize, output result\n",
    "    print(\"original size \", output.shape)\n",
    "#     output.shape = torch.Size([1000, 128])\n",
    "    out = output.view(5, 200, 128).cpu().data\n",
    "    print(\"resize: \", out.shape)\n",
    "    outList.append(out)\n",
    "\n",
    "# Repeat above process for CNN2, CNN3, and store them together:\n",
    "all_output = torch.stack((outList[0], outList[1], outList[2]))\n",
    "# all_output = torch.stack((outList[0],outList[0]))\n",
    "torch.save(all_output, output_dir)\n",
    "test_patches = torch.load(output_dir)\n",
    "print(type(test_patches))\n",
    "print(\"all ouput: \", test_patches.shape)\n"
   ]
  },
  {
   "cell_type": "code",
   "execution_count": null,
   "metadata": {},
   "outputs": [],
   "source": []
  }
 ],
 "metadata": {
  "kernelspec": {
   "display_name": "Python 3",
   "language": "python",
   "name": "python3"
  },
  "language_info": {
   "codemirror_mode": {
    "name": "ipython",
    "version": 3
   },
   "file_extension": ".py",
   "mimetype": "text/x-python",
   "name": "python",
   "nbconvert_exporter": "python",
   "pygments_lexer": "ipython3",
   "version": "3.6.6"
  }
 },
 "nbformat": 4,
 "nbformat_minor": 2
}
