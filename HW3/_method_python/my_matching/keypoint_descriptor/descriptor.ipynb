{
 "cells": [
  {
   "cell_type": "markdown",
   "metadata": {},
   "source": [
    "## Use pretrained network to output keypoint's description"
   ]
  },
  {
   "cell_type": "code",
   "execution_count": 5,
   "metadata": {},
   "outputs": [],
   "source": [
    "from __future__ import division, print_function\n",
    "import glob\n",
    "import os\n",
    "import cv2\n",
    "import PIL\n",
    "import random\n",
    "import numpy as np\n",
    "# import pandas as pd\n",
    "import matplotlib.pyplot as plt\n",
    "import matplotlib.image as mpimg\n",
    "import torch\n",
    "import torch.nn.init\n",
    "import torch.nn as nn\n",
    "import torch.optim as optim\n",
    "import torch.backends.cudnn as cudnn\n",
    "import torch.nn.functional as F\n",
    "import torchvision.datasets as dset\n",
    "import torchvision.transforms as transforms\n",
    "from tqdm import tqdm\n",
    "from torch.autograd import Variable\n",
    "from copy import deepcopy, copy\n",
    "from config_profile import args\n",
    "from Utils import cv2_scale36, cv2_scale, np_reshape, np_reshape64\n",
    "from scipy.optimize import linear_sum_assignment\n",
    "import sys"
   ]
  },
  {
   "cell_type": "code",
   "execution_count": 6,
   "metadata": {},
   "outputs": [],
   "source": [
    "os.environ[\"CUDA_VISIBLE_DEVICES\"] = \"1\" \n",
    "from descriptor_CNN3 import DesNet\n",
    "model = DesNet()\n",
    "model.eval()\n",
    "if args.cuda:\n",
    "    model.cuda()\n",
    "weight_path = \"checkpoint.pth\"\n",
    "trained_weight = torch.load(weight_path)\n",
    "model.load_state_dict(trained_weight['state_dict'])\n"
   ]
  },
  {
   "cell_type": "code",
   "execution_count": 7,
   "metadata": {},
   "outputs": [
    {
     "name": "stdout",
     "output_type": "stream",
     "text": [
      "query patches:  torch.Size([5, 100, 1, 32, 32])\n",
      "dataset patches:  torch.Size([5, 100, 1, 32, 32])\n"
     ]
    }
   ],
   "source": [
    "# load patches\n",
    "# query\n",
    "patches_p_dir = \"../keypoint_detector/p_patches.pt\"\n",
    "patches_p = torch.load(patches_p_dir)\n",
    "print(\"query patches: \", patches_p.shape)\n",
    "patches_p =  patches_p.view(-1, 1, 32, 32).cuda()\n",
    "\n",
    "# dataset\n",
    "patches_q_dir = \"../keypoint_detector/q_patches.pt\"\n",
    "patches_q = torch.load(patches_q_dir)\n",
    "print(\"dataset patches: \", patches_q.shape)\n",
    "patches_q =  patches_q.view(-1, 1, 32, 32).cuda()"
   ]
  },
  {
   "cell_type": "code",
   "execution_count": 8,
   "metadata": {},
   "outputs": [],
   "source": [
    "# query\n",
    "description_p = model(patches_p)\n",
    "description_p = description_p.view(-1, 100, 128)\n",
    "\n",
    "# dataset\n",
    "description_q = model(patches_q)\n",
    "description_q = description_q.view(-1, 100, 128)"
   ]
  },
  {
   "cell_type": "code",
   "execution_count": 9,
   "metadata": {},
   "outputs": [
    {
     "name": "stdout",
     "output_type": "stream",
     "text": [
      "p description:  torch.Size([5, 100, 128])\n",
      "q description:  torch.Size([5, 100, 128])\n"
     ]
    }
   ],
   "source": [
    "print(\"p description: \", description_p.shape)\n",
    "print(\"q description: \", description_q.shape) "
   ]
  },
  {
   "cell_type": "code",
   "execution_count": 10,
   "metadata": {},
   "outputs": [],
   "source": [
    "torch.save(description_p, \"p_description.pt\")\n",
    "torch.save(description_q, \"q_description.pt\") "
   ]
  },
  {
   "cell_type": "code",
   "execution_count": 11,
   "metadata": {},
   "outputs": [
    {
     "name": "stdout",
     "output_type": "stream",
     "text": [
      "feature_descriptors:  torch.Size([10, 100, 128])\n"
     ]
    }
   ],
   "source": [
    "c = torch.cat((description_p, description_q), 0)\n",
    "torch.save(c, \"feature_descriptors.pt\")\n",
    "print(\"feature_descriptors: \", c.shape)"
   ]
  },
  {
   "cell_type": "code",
   "execution_count": null,
   "metadata": {},
   "outputs": [],
   "source": []
  }
 ],
 "metadata": {
  "kernelspec": {
   "display_name": "Python 3",
   "language": "python",
   "name": "python3"
  },
  "language_info": {
   "codemirror_mode": {
    "name": "ipython",
    "version": 3
   },
   "file_extension": ".py",
   "mimetype": "text/x-python",
   "name": "python",
   "nbconvert_exporter": "python",
   "pygments_lexer": "ipython3",
   "version": "3.6.6"
  }
 },
 "nbformat": 4,
 "nbformat_minor": 2
}
