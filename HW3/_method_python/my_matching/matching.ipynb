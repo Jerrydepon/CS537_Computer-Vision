{
 "cells": [
  {
   "cell_type": "code",
   "execution_count": 1,
   "metadata": {},
   "outputs": [],
   "source": [
    "from __future__ import division, print_function\n",
    "import glob\n",
    "import os\n",
    "import cv2\n",
    "import PIL\n",
    "import random\n",
    "import numpy as np\n",
    "# import pandas as pd\n",
    "import matplotlib.pyplot as plt\n",
    "import matplotlib.image as mpimg\n",
    "import torch\n",
    "import torch.nn.init\n",
    "import torch.nn as nn\n",
    "import torch.optim as optim\n",
    "import torch.backends.cudnn as cudnn\n",
    "import torch.nn.functional as F\n",
    "import torchvision.datasets as dset\n",
    "import torchvision.transforms as transforms\n",
    "from tqdm import tqdm\n",
    "from torch.autograd import Variable\n",
    "from copy import deepcopy, copy\n",
    "# from config_profile import args\n",
    "# from Utils import cv2_scale36, cv2_scale, np_reshape, np_reshape64\n",
    "from scipy.optimize import linear_sum_assignment\n",
    "import sys\n",
    "import matplotlib.pyplot as plt"
   ]
  },
  {
   "cell_type": "markdown",
   "metadata": {},
   "source": [
    "<span style=\"color:blue\">Read in features</span>"
   ]
  },
  {
   "cell_type": "code",
   "execution_count": 2,
   "metadata": {},
   "outputs": [
    {
     "name": "stdout",
     "output_type": "stream",
     "text": [
      "torch.Size([5, 100, 128])\n",
      "torch.Size([5, 100, 128])\n"
     ]
    }
   ],
   "source": [
    "os.environ[\"CUDA_VISIBLE_DEVICES\"] = \"1\" \n",
    "\n",
    "q = torch.load(\"./keypoint_descriptor/p_description.pt\")  # torch.Size([5, 100, 128])\n",
    "d = torch.load(\"./keypoint_descriptor/q_description.pt\")   # torch.Size([5, 100, 128])\n",
    "\n",
    "print(q.shape)\n",
    "print(d.shape)"
   ]
  },
  {
   "cell_type": "markdown",
   "metadata": {},
   "source": [
    "<span style=\"color:blue\">Similarity Matrix - one-to-one & many-to-many</span>"
   ]
  },
  {
   "cell_type": "code",
   "execution_count": 3,
   "metadata": {},
   "outputs": [
    {
     "name": "stdout",
     "output_type": "stream",
     "text": [
      "5,5,100"
     ]
    }
   ],
   "source": [
    "data = np.zeros((100, 100))\n",
    "similarity_list_one = np.zeros((5, 5))\n",
    "similarity_list_many = np.zeros((5, 5))\n",
    "cost_matrix = torch.tensor(data)\n",
    "\n",
    "for i in range(len(q)):                 # 5\n",
    "    for j in range(len(d)):             # 5  \n",
    "        s_one = 0\n",
    "        s_many = 0\n",
    "        for k in range(len(q[0])):      # 100\n",
    "            for l in range(len(d[0])):  # 100\n",
    "                cost_matrix[k][l] = torch.dist(q[i][k], d[j][l], p=2)\n",
    "                \n",
    "            print(\"\\r{},{},{}\".format(i+1, j+1, k+1), end='')\n",
    "            sys.stdout.flush()\n",
    "        \n",
    "        # one2one\n",
    "        cost_matrix_np = cost_matrix.detach().numpy()\n",
    "        row_ind, col_ind = linear_sum_assignment(cost_matrix_np)   # Hungarian\n",
    "        \n",
    "        for m in range(len(cost_matrix_np[0])):       # 100\n",
    "            s_one += np.exp(-cost_matrix_np[m][col_ind[m]])\n",
    "        similarity_list_one[i][j] = s_one\n"
   ]
  },
  {
   "cell_type": "code",
   "execution_count": 6,
   "metadata": {},
   "outputs": [
    {
     "name": "stdout",
     "output_type": "stream",
     "text": [
      "[ 2  0  1  4  3  6  5  8 11 10  7 13  9 64 15 19 21 83 71 43 59 23 24 73\n",
      " 53 51 25 22 12 34 44 63 16 41 52 30 32 92 48 99 58 37 18 27 26 35 14 46\n",
      " 61 97 79 31 29 39 36 38 40 86 70 88 47 42 72 87 84 89 55 62 50 49 54 60\n",
      " 85 78 67 17 77 76 33 68 69 45 96 94 65 91 75 74 98 81 82 66 20 28 80 57\n",
      " 56 93 90 95]\n"
     ]
    }
   ],
   "source": [
    "print(col_ind)"
   ]
  },
  {
   "cell_type": "markdown",
   "metadata": {},
   "source": [
    "<span style=\"color:blue\">Similarity Matrix - many-to-many</span>"
   ]
  },
  {
   "cell_type": "code",
   "execution_count": 4,
   "metadata": {},
   "outputs": [
    {
     "name": "stdout",
     "output_type": "stream",
     "text": [
      "(5, 5)\n",
      "[52.48320991 34.67443389 34.15876008 32.77626014 35.50153326]\n",
      "(5, 5)\n",
      "[7644.39947098 7212.65969632 7279.61619272 7061.63438407 7235.37570869]\n"
     ]
    }
   ],
   "source": [
    "print(similarity_list_one.shape)\n",
    "print(similarity_list_one[0])\n"
   ]
  },
  {
   "cell_type": "markdown",
   "metadata": {},
   "source": [
    "<span style=\"color:blue\">Save similarity matrix</span>"
   ]
  },
  {
   "cell_type": "code",
   "execution_count": 7,
   "metadata": {},
   "outputs": [
    {
     "name": "stdout",
     "output_type": "stream",
     "text": [
      "similarity matrix one:  torch.Size([35, 140])\n",
      "similarity matrix many:  torch.Size([35, 140])\n"
     ]
    }
   ],
   "source": [
    "similarity_list_one\n",
    "similarity_list_many\n",
    "matrix_one = torch.from_numpy(similarity_list_one)\n",
    "matrix_many = torch.from_numpy(similarity_list_many)\n",
    "\n",
    "torch.save(matrix_one, \"similarity_one.pt\")\n",
    "torch.save(matrix_many, \"similarity_many.pt\")\n",
    "print(\"similarity matrix one: \", matrix_one.shape)\n",
    "print(\"similarity matrix many: \", matrix_many.shape)"
   ]
  },
  {
   "cell_type": "code",
   "execution_count": null,
   "metadata": {},
   "outputs": [],
   "source": []
  }
 ],
 "metadata": {
  "kernelspec": {
   "display_name": "Python 3",
   "language": "python",
   "name": "python3"
  },
  "language_info": {
   "codemirror_mode": {
    "name": "ipython",
    "version": 3
   },
   "file_extension": ".py",
   "mimetype": "text/x-python",
   "name": "python",
   "nbconvert_exporter": "python",
   "pygments_lexer": "ipython3",
   "version": "3.6.8"
  }
 },
 "nbformat": 4,
 "nbformat_minor": 2
}
